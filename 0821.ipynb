{
 "cells": [
  {
   "cell_type": "code",
   "execution_count": 43,
   "metadata": {},
   "outputs": [
    {
     "name": "stdout",
     "output_type": "stream",
     "text": [
      "3\n"
     ]
    }
   ],
   "source": [
    "x,y,z=map(int,input().split())\n",
    "if x<y and x<z:\n",
    "    print(x)\n",
    "elif y<z and y<x:\n",
    "    print(y)\n",
    "else:\n",
    "    print(z)"
   ]
  },
  {
   "cell_type": "code",
   "execution_count": 4,
   "metadata": {},
   "outputs": [
    {
     "name": "stdout",
     "output_type": "stream",
     "text": [
      "129\n"
     ]
    }
   ],
   "source": [
    "n = int(input())\n",
    "sum=0\n",
    "for i in range(1,n+1):\n",
    "    if i % 3 == 0 or i % 7 == 0:\n",
    "        sum += i\n",
    "print(sum)"
   ]
  },
  {
   "cell_type": "code",
   "execution_count": 5,
   "metadata": {},
   "outputs": [
    {
     "name": "stdout",
     "output_type": "stream",
     "text": [
      "*\n",
      "**\n",
      "***\n"
     ]
    }
   ],
   "source": [
    "n=int(input())\n",
    "for i in range(1,n+1):\n",
    "  for j in range(1,i+1):\n",
    "    print(\"*\", end=\"\")\n",
    "  print()"
   ]
  },
  {
   "cell_type": "code",
   "execution_count": 6,
   "metadata": {},
   "outputs": [
    {
     "name": "stdout",
     "output_type": "stream",
     "text": [
      "1\n",
      "12\n",
      "123\n",
      "1234\n",
      "12345\n"
     ]
    }
   ],
   "source": [
    "n=int(input())\n",
    "for i in range(1,n+1):\n",
    "  for j in range(1,i+1):\n",
    "    print(j,end=\"\")\n",
    "  print()"
   ]
  },
  {
   "cell_type": "code",
   "execution_count": 42,
   "metadata": {},
   "outputs": [
    {
     "name": "stdout",
     "output_type": "stream",
     "text": [
      "Valid\n"
     ]
    }
   ],
   "source": [
    "x,y,z=map(int,input().split())\n",
    "if x+y>z and x+z>y and y+z>x:\n",
    "    print(\"Valid\")\n",
    "else:\n",
    "    print(\"Invalid\")"
   ]
  },
  {
   "cell_type": "code",
   "execution_count": 44,
   "metadata": {},
   "outputs": [
    {
     "name": "stdout",
     "output_type": "stream",
     "text": [
      "2020 is leap year\n"
     ]
    }
   ],
   "source": [
    "n=int(input())\n",
    "if n%4==0 and n%100!=0:\n",
    "    print(n,\"is leap year\")\n",
    "elif n%400==0:\n",
    "    print(n,\"is leap year\")\n",
    "else:\n",
    "    print(n,\"is common year\")"
   ]
  },
  {
   "cell_type": "code",
   "execution_count": 45,
   "metadata": {},
   "outputs": [
    {
     "name": "stdout",
     "output_type": "stream",
     "text": [
      "3*1=3 3*2=6 3*3=9 3*4=12 3*5=15 3*6=18 3*7=21 3*8=24 3*9=27 \n",
      "4*1=4 4*2=8 4*3=12 4*4=16 4*5=20 4*6=24 4*7=28 4*8=32 4*9=36 \n",
      "5*1=5 5*2=10 5*3=15 5*4=20 5*5=25 5*6=30 5*7=35 5*8=40 5*9=45 \n",
      "6*1=6 6*2=12 6*3=18 6*4=24 6*5=30 6*6=36 6*7=42 6*8=48 6*9=54 \n",
      "7*1=7 7*2=14 7*3=21 7*4=28 7*5=35 7*6=42 7*7=49 7*8=56 7*9=63 \n",
      "8*1=8 8*2=16 8*3=24 8*4=32 8*5=40 8*6=48 8*7=56 8*8=64 8*9=72 \n",
      "9*1=9 9*2=18 9*3=27 9*4=36 9*5=45 9*6=54 9*7=63 9*8=72 9*9=81 \n"
     ]
    }
   ],
   "source": [
    "n=int(input())\n",
    "for i in range(n,10):\n",
    "   for j in range(1,10):\n",
    "        print(\"%d*%d=%d\"%(i,j,i*j),end=\" \")\n",
    "   print()"
   ]
  },
  {
   "cell_type": "code",
   "execution_count": 46,
   "metadata": {},
   "outputs": [
    {
     "name": "stdout",
     "output_type": "stream",
     "text": [
      "Ans 3\n"
     ]
    }
   ],
   "source": [
    "n=str(input())\n",
    "print(\"Ans\",n)"
   ]
  },
  {
   "cell_type": "code",
   "execution_count": 47,
   "metadata": {},
   "outputs": [
    {
     "name": "stdout",
     "output_type": "stream",
     "text": [
      "45\n"
     ]
    }
   ],
   "source": [
    "a,b,c,d,e,f,g,h,i = map(int,input().split())\n",
    "x=a+b+c+d+e+f+g+h+i\n",
    "print(x)"
   ]
  },
  {
   "cell_type": "code",
   "execution_count": 48,
   "metadata": {},
   "outputs": [
    {
     "name": "stdout",
     "output_type": "stream",
     "text": [
      "3\n"
     ]
    }
   ],
   "source": [
    "n=str(input())\n",
    "a=len(n)\n",
    "print(a)"
   ]
  },
  {
   "cell_type": "code",
   "execution_count": 49,
   "metadata": {},
   "outputs": [
    {
     "name": "stdout",
     "output_type": "stream",
     "text": [
      "45 is E\n"
     ]
    }
   ],
   "source": [
    "none=int(input())\n",
    "if(none<60 and none>=0):\n",
    "    print('%s is E'%none)\n",
    "elif(none>=80 and none<=89):\n",
    "    print('%s is B'%none)\n",
    "elif(none>=70 and none<=79):\n",
    "    print('%s is C'%none)    \n",
    "elif(none>100 or none<0):\n",
    "    print('%s is error'%none)\n",
    "elif(none>=90 and none<=100):\n",
    "    print('%s is A'%none)\n",
    "else:\n",
    "    print('%s is D'%none)"
   ]
  },
  {
   "cell_type": "code",
   "execution_count": 53,
   "metadata": {},
   "outputs": [
    {
     "name": "stdout",
     "output_type": "stream",
     "text": [
      "90% discount is 27000.9   \n"
     ]
    }
   ],
   "source": [
    "none=int(input())\n",
    "if(none<100000 and none>=50000):\n",
    "    n=none*0.85\n",
    "    a='{:<10.1f}'.format(n)\n",
    "    print(\"85%\",\"discount is\",a)\n",
    "elif(none<50000 and none>=30000):\n",
    "    n=(none*0.9)\n",
    "    a='{:<10.1f}'.format(n)\n",
    "    print(\"90%\",\"discount is\",a)\n",
    "elif(none<30000 and none>=10000):\n",
    "    n=none*0.95\n",
    "    if none%100==0:\n",
    "        a='{:<10.1f}'.format(n)\n",
    "    if none%100!=0:\n",
    "        a='{:<10.2f}'.format(n)\n",
    "    print(\"95%\",\"discount is\",a)\n",
    "elif(none>=100000):\n",
    "    n=none*0.8\n",
    "    a='{:<10.1f}'.format(n)\n",
    "    print(\"80%\",\"discount is\",a)\n",
    "else:\n",
    "    print(\"no discount is\",none)"
   ]
  },
  {
   "cell_type": "code",
   "execution_count": 52,
   "metadata": {},
   "outputs": [
    {
     "name": "stdout",
     "output_type": "stream",
     "text": [
      "2,3,4,5,6,7,"
     ]
    }
   ],
   "source": [
    "x,y,z=map(int,input().split())\n",
    "for s in range(x,y,z):\n",
    "    print(s, end=\",\")"
   ]
  },
  {
   "cell_type": "code",
   "execution_count": 10,
   "metadata": {},
   "outputs": [
    {
     "name": "stdout",
     "output_type": "stream",
     "text": [
      "[3, 4, 5, 6, 7]\n"
     ]
    }
   ],
   "source": [
    "list=[ ]\n",
    "x,y,z=map(int,input().split())\n",
    "for s in range(x,y,z):\n",
    "    list.append(s)\n",
    "print(list)"
   ]
  },
  {
   "cell_type": "code",
   "execution_count": 13,
   "metadata": {},
   "outputs": [
    {
     "name": "stdout",
     "output_type": "stream",
     "text": [
      "Valid\n"
     ]
    }
   ],
   "source": [
    "x,y,z=map(int,input().split())\n",
    "if x==y or x==z or y==z:\n",
    "    print(\"Valid\")\n",
    "else:\n",
    "    print(\"Invalid\")"
   ]
  },
  {
   "cell_type": "code",
   "execution_count": 11,
   "metadata": {},
   "outputs": [
    {
     "name": "stdout",
     "output_type": "stream",
     "text": [
      "park time:6h:9m\n",
      "pay:260 money\n"
     ]
    }
   ],
   "source": [
    "none=int(input())\n",
    "hours = none // 60\n",
    "rminutes = none % 60\n",
    "if(rminutes>0):\n",
    "    f = (hours)* 40+20\n",
    "else:\n",
    "    f = hours * 40\n",
    "if f > 300:\n",
    "  f = 300\n",
    "print(f\"park time:{hours}h:{rminutes}m\")\n",
    "print(f\"pay:{f} money\")"
   ]
  },
  {
   "cell_type": "code",
   "execution_count": 14,
   "metadata": {},
   "outputs": [
    {
     "name": "stdout",
     "output_type": "stream",
     "text": [
      "370,371,407,\n"
     ]
    }
   ],
   "source": [
    "x,y=map(int,input().split())\n",
    "results = []\n",
    "for n in range(x,y):\n",
    "    if 100 <= n <= 999:\n",
    "        u= n % 10\n",
    "        t = (n // 10) % 10\n",
    "        h= (n// 100) % 10\n",
    "        if(u**3 + t**3 + h**3) == n:\n",
    "            results.append(n)\n",
    "print(\",\".join(map(str, results)) + \",\")"
   ]
  },
  {
   "cell_type": "code",
   "execution_count": 16,
   "metadata": {},
   "outputs": [
    {
     "name": "stdout",
     "output_type": "stream",
     "text": [
      "t=3.0 b=5.0 h=4.8 area=19.2\n"
     ]
    }
   ],
   "source": [
    "x=float(input())\n",
    "y=float(input())\n",
    "z=float(input())\n",
    "a=(x+y)*z/2\n",
    "print(f\"t={x} b={y} h={z} area={a}\")"
   ]
  },
  {
   "cell_type": "code",
   "execution_count": 29,
   "metadata": {},
   "outputs": [
    {
     "name": "stdout",
     "output_type": "stream",
     "text": [
      "37.0\n"
     ]
    }
   ],
   "source": [
    "x=float(input())\n",
    "y=float(input())\n",
    "print(x%y)"
   ]
  },
  {
   "cell_type": "code",
   "execution_count": 31,
   "metadata": {},
   "outputs": [
    {
     "name": "stdout",
     "output_type": "stream",
     "text": [
      "13.333333333333334\n"
     ]
    }
   ],
   "source": [
    "x=float(input())\n",
    "y=float(input())\n",
    "print(x/y)"
   ]
  }
 ],
 "metadata": {
  "kernelspec": {
   "display_name": "Python 3",
   "language": "python",
   "name": "python3"
  },
  "language_info": {
   "codemirror_mode": {
    "name": "ipython",
    "version": 3
   },
   "file_extension": ".py",
   "mimetype": "text/x-python",
   "name": "python",
   "nbconvert_exporter": "python",
   "pygments_lexer": "ipython3",
   "version": "3.11.9"
  }
 },
 "nbformat": 4,
 "nbformat_minor": 2
}
