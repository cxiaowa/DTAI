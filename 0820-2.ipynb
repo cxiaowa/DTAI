{
 "cells": [
  {
   "cell_type": "code",
   "execution_count": 1,
   "metadata": {},
   "outputs": [
    {
     "name": "stdout",
     "output_type": "stream",
     "text": [
      "****\n",
      "total:4"
     ]
    }
   ],
   "source": [
    "n=str(input())\n",
    "a=len(n)\n",
    "c=masked = '*' * a\n",
    "print(c,end=\"\\n\"'total:%s'%a)"
   ]
  },
  {
   "cell_type": "code",
   "execution_count": 2,
   "metadata": {},
   "outputs": [
    {
     "name": "stdout",
     "output_type": "stream",
     "text": [
      "01:04:05\n"
     ]
    }
   ],
   "source": [
    "s=int(input())\n",
    "hours = s// 3600\n",
    "minutes = (s % 3600) // 60\n",
    "seconds = s % 60\n",
    "print(f\"{hours:02}:{minutes:02}:{seconds:02}\")"
   ]
  },
  {
   "cell_type": "code",
   "execution_count": 3,
   "metadata": {},
   "outputs": [
    {
     "name": "stdout",
     "output_type": "stream",
     "text": [
      "3\n"
     ]
    }
   ],
   "source": [
    "n=str(input())\n",
    "a=len(n)\n",
    "print(a)"
   ]
  },
  {
   "cell_type": "code",
   "execution_count": 16,
   "metadata": {},
   "outputs": [
    {
     "name": "stdout",
     "output_type": "stream",
     "text": [
      "75\n"
     ]
    }
   ],
   "source": [
    "n=int(input())\n",
    "sum=0\n",
    "for i in range(10,n+1):\n",
    "    sum+=i\n",
    "print(sum)"
   ]
  },
  {
   "cell_type": "code",
   "execution_count": 17,
   "metadata": {},
   "outputs": [
    {
     "name": "stdout",
     "output_type": "stream",
     "text": [
      "40.0 is over\n"
     ]
    }
   ],
   "source": [
    "none=float(input())\n",
    "if(none<34):\n",
    "    print('%s is error'%none)\n",
    "elif(none>=37 and none<=37.4):\n",
    "    print('%s is little over'%none)\n",
    "elif(none>=37.5):\n",
    "    print('%s is over'%none)\n",
    "else:\n",
    "    print('%s is normal'%none)"
   ]
  },
  {
   "cell_type": "code",
   "execution_count": 19,
   "metadata": {},
   "outputs": [
    {
     "name": "stdout",
     "output_type": "stream",
     "text": [
      "0 is E\n"
     ]
    }
   ],
   "source": [
    "none=int(input())\n",
    "if(none<60 and none>=0):\n",
    "    print('%s is E'%none)\n",
    "elif(none>=80 and none<=89):\n",
    "    print('%s is B'%none)\n",
    "elif(none>=70 and none<=79):\n",
    "    print('%s is C'%none)    \n",
    "elif(none>100 or none<0):\n",
    "    print('%s is error'%none)\n",
    "elif(none>=90 and none<=100):\n",
    "    print('%s is A'%none)\n",
    "else:\n",
    "    print('%s is D'%none)"
   ]
  },
  {
   "cell_type": "code",
   "execution_count": 23,
   "metadata": {},
   "outputs": [
    {
     "name": "stdout",
     "output_type": "stream",
     "text": [
      "6 is summer\n"
     ]
    }
   ],
   "source": [
    "none=int(input())\n",
    "if((none<1)or(none>12)):\n",
    "  print(\"input error\")\n",
    "else:    \n",
    "  if((none<6)and(none>2)):\n",
    "    print(none,\"is spring\")\n",
    "  if((none<9)and(none>5)):\n",
    "    print(none,\"is summer\")\n",
    "  if((none<12)and(none>8)):\n",
    "    print(none,\"is autumn\") \n",
    "  if((none==12)or(none==1)or(none==2)):\n",
    "    print(none,\"is winter\")   "
   ]
  }
 ],
 "metadata": {
  "kernelspec": {
   "display_name": "Python 3",
   "language": "python",
   "name": "python3"
  },
  "language_info": {
   "codemirror_mode": {
    "name": "ipython",
    "version": 3
   },
   "file_extension": ".py",
   "mimetype": "text/x-python",
   "name": "python",
   "nbconvert_exporter": "python",
   "pygments_lexer": "ipython3",
   "version": "3.11.9"
  }
 },
 "nbformat": 4,
 "nbformat_minor": 2
}
