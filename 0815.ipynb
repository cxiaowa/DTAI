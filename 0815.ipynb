{
 "cells": [
  {
   "cell_type": "code",
   "execution_count": 1,
   "metadata": {},
   "outputs": [
    {
     "name": "stdout",
     "output_type": "stream",
     "text": [
      "hello world\n",
      "       hello world\n",
      "       hello world\n",
      "hello        world\n",
      "hel world\n",
      "         hel world\n"
     ]
    }
   ],
   "source": [
    "print('%s world' % 'hello')      # hello world\n",
    "print('%12s world' % 'hello')    #        hello world\n",
    "print('%+12s world' % 'hello')   #        hello world\n",
    "print('%-12s world' % 'hello')   # hello        world\n",
    "print('%.3s world' % 'hello')    # hel world\n",
    "print('%12.3s world' % 'hello')  #          hel world"
   ]
  },
  {
   "cell_type": "code",
   "execution_count": 2,
   "metadata": {},
   "outputs": [
    {
     "name": "stdout",
     "output_type": "stream",
     "text": [
      "hello world, ther are 2.500000 dollars!\n"
     ]
    }
   ],
   "source": [
    "a = '%s world, ther are %f dollars!'\n",
    "b = a % ('hello', 2.5)\n",
    "print(b)   # hello world, ther are 2.500000 dollars!"
   ]
  },
  {
   "cell_type": "code",
   "execution_count": 3,
   "metadata": {},
   "outputs": [
    {
     "name": "stdout",
     "output_type": "stream",
     "text": [
      "hello world, I am oxxo\n",
      "hello world     , I am oxxo      \n",
      "hello      world, I am       oxxo\n",
      "hello --world---, I am +++oxxo+++\n",
      "hello ---wor----, I am ---oxxo---\n",
      "hello ---wor----, I am  123.457  \n"
     ]
    }
   ],
   "source": [
    "a = 'hello {}, I am {}'.format('world','oxxo')\n",
    "b = 'hello {:10s}, I am {:10s}'.format('world','oxxo')\n",
    "c = 'hello {:>10s}, I am {:>10s}'.format('world','oxxo')\n",
    "d = 'hello {:-^10s}, I am {:+^10s}'.format('world','oxxo')\n",
    "e = 'hello {:-^10.3s}, I am {:-^10s}'.format('world','oxxo')\n",
    "f = 'hello {:-^10.3s}, I am {:^10.3f}'.format('world',123.456789)\n",
    "print(a)  # hello world, I am oxxo\n",
    "print(b)  # hello world     , I am oxxo\n",
    "print(c)  # hello      world, I am       oxxo\n",
    "print(d)  # hello --world---, I am +++oxxo+++\n",
    "print(e)  # hello ---wor----, I am ---oxxo---\n",
    "print(f)  # hello ---wor----, I am  123.457"
   ]
  },
  {
   "cell_type": "code",
   "execution_count": 34,
   "metadata": {},
   "outputs": [
    {
     "name": "stdout",
     "output_type": "stream",
     "text": [
      "hello ++world+++, I am ---oxxo---\n"
     ]
    }
   ],
   "source": [
    "a = 'hello {:+^10s}, I am {:-^10s}'.format('world','oxxo')\n",
    "\n",
    "print(a)  "
   ]
  },
  {
   "cell_type": "code",
   "execution_count": 37,
   "metadata": {},
   "outputs": [
    {
     "name": "stdout",
     "output_type": "stream",
     "text": [
      " hello +++world---, I and +++oxxo---\n"
     ]
    }
   ],
   "source": [
    "g=\" {} +++world---, I and +++{}---\".format(\"hello\",\"oxxo\")\n",
    "print(g)"
   ]
  },
  {
   "cell_type": "code",
   "execution_count": 42,
   "metadata": {},
   "outputs": [
    {
     "name": "stdout",
     "output_type": "stream",
     "text": [
      "001,002,003,004,005,006,007,008,009,010,\n",
      "011,012,013,014,015,016,017,018,019,020,\n",
      "021,022,023,024,025,026,027,028,029,030,\n",
      "031,032,033,034,035,036,037,038,039,040,\n",
      "041,042,043,044,045,046,047,048,049,050,\n",
      "051,052,053,054,055,056,057,058,059,060,\n",
      "061,062,063,064,065,066,067,068,069,070,\n",
      "071,072,073,074,075,076,077,078,079,080,\n",
      "081,082,083,084,085,086,087,088,089,090,\n",
      "091,092,093,094,095,096,097,098,099,100,\n"
     ]
    }
   ],
   "source": [
    "c=0\n",
    "for i in range(1,101):\n",
    "  print(f'{i:03d}',end=',')\n",
    "  c+=1\n",
    "  if c % 10 ==0:\n",
    "    print()"
   ]
  },
  {
   "cell_type": "code",
   "execution_count": 46,
   "metadata": {},
   "outputs": [
    {
     "name": "stdout",
     "output_type": "stream",
     "text": [
      "  123.46   \n"
     ]
    }
   ],
   "source": [
    "i=float(input())\n",
    "print(f'{i:^10.2f} ')"
   ]
  },
  {
   "cell_type": "code",
   "execution_count": 53,
   "metadata": {},
   "outputs": [
    {
     "name": "stdout",
     "output_type": "stream",
     "text": [
      "hello world\n"
     ]
    }
   ],
   "source": [
    "a =str(input())\n",
    "b =str(input())\n",
    "c = f'{a:<s} {b:<s}'\n",
    "print(c)"
   ]
  },
  {
   "cell_type": "code",
   "execution_count": 54,
   "metadata": {},
   "outputs": [
    {
     "name": "stdout",
     "output_type": "stream",
     "text": [
      "You are 34 years old. \n"
     ]
    }
   ],
   "source": [
    "i=int(input())\n",
    "c = f'You are {2024-i} years old. '\n",
    "print(c)"
   ]
  },
  {
   "cell_type": "code",
   "execution_count": 73,
   "metadata": {},
   "outputs": [
    {
     "name": "stdout",
     "output_type": "stream",
     "text": [
      "2024-08-15-r.p\n"
     ]
    }
   ],
   "source": [
    "a =str(input())\n",
    "b =str(input())\n",
    "from datetime import datetime\n",
    "n=datetime.now().strftime('%Y-%m-%d')\n",
    "c = f'{n:<10.10s}-{a}.{b}'\n",
    "print(c)"
   ]
  },
  {
   "cell_type": "code",
   "execution_count": 56,
   "metadata": {},
   "outputs": [
    {
     "name": "stdout",
     "output_type": "stream",
     "text": [
      "6*7=42 \n"
     ]
    }
   ],
   "source": [
    "a=int(input())\n",
    "b=int(input())\n",
    "c = f'{a}*{b}={a*b}'\n",
    "print(c)"
   ]
  }
 ],
 "metadata": {
  "kernelspec": {
   "display_name": "base",
   "language": "python",
   "name": "python3"
  },
  "language_info": {
   "codemirror_mode": {
    "name": "ipython",
    "version": 3
   },
   "file_extension": ".py",
   "mimetype": "text/x-python",
   "name": "python",
   "nbconvert_exporter": "python",
   "pygments_lexer": "ipython3",
   "version": "3.11.7"
  }
 },
 "nbformat": 4,
 "nbformat_minor": 2
}
