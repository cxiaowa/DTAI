{
 "cells": [
  {
   "cell_type": "code",
   "execution_count": 8,
   "metadata": {},
   "outputs": [
    {
     "name": "stdout",
     "output_type": "stream",
     "text": [
      "ww\n",
      "2 letters"
     ]
    }
   ],
   "source": [
    "n=str(input())\n",
    "a=len(n)\n",
    "print(n,end=\"\\n\"'%s letters'%a)"
   ]
  },
  {
   "cell_type": "code",
   "execution_count": 43,
   "metadata": {},
   "outputs": [
    {
     "name": "stdout",
     "output_type": "stream",
     "text": [
      "a=10.246950765959598 b=14.317821063276353 \n",
      "ans=24.56477182923595\n"
     ]
    }
   ],
   "source": [
    "x,y = map(float,input().split())\n",
    "a=x**0.5\n",
    "b=y**0.5\n",
    "c=a+b\n",
    "print(f'a={a} b={b} \\nans={c}')"
   ]
  },
  {
   "cell_type": "code",
   "execution_count": 34,
   "metadata": {},
   "outputs": [
    {
     "name": "stdout",
     "output_type": "stream",
     "text": [
      "28.02\n"
     ]
    }
   ],
   "source": [
    "x,y = map(float,input().split())\n",
    "bmi=y/(x**2)\n",
    "a=round(bmi,2)\n",
    "print(a)"
   ]
  },
  {
   "cell_type": "code",
   "execution_count": 36,
   "metadata": {},
   "outputs": [
    {
     "name": "stdout",
     "output_type": "stream",
     "text": [
      "31\n"
     ]
    }
   ],
   "source": [
    "a,b,c,d,e,f,g,h,i = map(int,input().split())\n",
    "x=a+b+c+d+e+f+g+h+i\n",
    "print(x)"
   ]
  },
  {
   "cell_type": "code",
   "execution_count": 30,
   "metadata": {},
   "outputs": [
    {
     "name": "stdout",
     "output_type": "stream",
     "text": [
      "a=2 b=5\n",
      "a=5 b=2"
     ]
    }
   ],
   "source": [
    "x,y = map(int,input().split())\n",
    "print('a=%d b=%d'%(x,y),end=\"\\n\"'a=%d b=%d'%(y,x))"
   ]
  }
 ],
 "metadata": {
  "kernelspec": {
   "display_name": "Python 3",
   "language": "python",
   "name": "python3"
  },
  "language_info": {
   "codemirror_mode": {
    "name": "ipython",
    "version": 3
   },
   "file_extension": ".py",
   "mimetype": "text/x-python",
   "name": "python",
   "nbconvert_exporter": "python",
   "pygments_lexer": "ipython3",
   "version": "3.11.9"
  }
 },
 "nbformat": 4,
 "nbformat_minor": 2
}
