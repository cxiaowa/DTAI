{
 "cells": [
  {
   "cell_type": "code",
   "execution_count": 13,
   "metadata": {},
   "outputs": [
    {
     "name": "stdout",
     "output_type": "stream",
     "text": [
      "[0, 1, 2, 3, 4, 5, 6, 7]\n",
      "[1, 2, 3, 4, 5, 6, 7, 8, 9]\n",
      "[1, 3, 5, 7, 9]\n",
      "[10, 8, 6, 4, 2]\n"
     ]
    }
   ],
   "source": [
    "c = range(0, 8, 1) \n",
    "print(list(c))\n",
    "a = range(1, 10, 1) \n",
    "print(list(a))\n",
    "b = range(1, 10, 2) \n",
    "print(list(b))\n",
    "d = range(10, 1,-2) \n",
    "print(list(d))"
   ]
  },
  {
   "cell_type": "code",
   "execution_count": 36,
   "metadata": {},
   "outputs": [
    {
     "name": "stdout",
     "output_type": "stream",
     "text": [
      "請請輸入正整數: 10\n",
      "1到 10 的整數和為 55\n"
     ]
    }
   ],
   "source": [
    "sum = 0\n",
    "none=int(input(\"請輸入正整數\"))\n",
    "for n in range(none+1):     \n",
    "    sum = sum+n \n",
    "print(\"請輸入正整數:\",none)\n",
    "print(\"1到\",none,\"的整數和為\",sum )"
   ]
  },
  {
   "cell_type": "code",
   "execution_count": 44,
   "metadata": {},
   "outputs": [
    {
     "name": "stdout",
     "output_type": "stream",
     "text": [
      "請請輸入正整數: 10\n",
      "1到 1 的整數和為: 1\n",
      "1到 2 的整數和為: 3\n",
      "1到 3 的整數和為: 6\n",
      "1到 4 的整數和為: 10\n",
      "1到 5 的整數和為: 15\n",
      "1到 6 的整數和為: 21\n",
      "1到 7 的整數和為: 28\n",
      "1到 8 的整數和為: 36\n",
      "1到 9 的整數和為: 45\n",
      "1到 10 的整數和為: 55\n"
     ]
    }
   ],
   "source": [
    "sum = 0\n",
    "none=int(input(\"請輸入正整數\"))\n",
    "print(\"請輸入正整數:\",none)\n",
    "for n in range(1,none+1,1):     \n",
    "    sum = sum+n \n",
    "    print(\"1到\",n,\"的整數和為:\",sum )"
   ]
  },
  {
   "cell_type": "code",
   "execution_count": 47,
   "metadata": {},
   "outputs": [
    {
     "name": "stdout",
     "output_type": "stream",
     "text": [
      "2550\n"
     ]
    }
   ],
   "source": [
    "sum = 0\n",
    "for n in range(0,101,2):     \n",
    "    sum = sum+n \n",
    "print(sum)"
   ]
  },
  {
   "cell_type": "code",
   "execution_count": 52,
   "metadata": {},
   "outputs": [
    {
     "name": "stdout",
     "output_type": "stream",
     "text": [
      "[10, 9, 8, 7, 6, 5, 4, 3, 2, 1] 倒數結束！\n"
     ]
    }
   ],
   "source": [
    "c = range(10, 0, -1) \n",
    "print(list(c),\"倒數結束！\")"
   ]
  },
  {
   "cell_type": "code",
   "execution_count": 83,
   "metadata": {},
   "outputs": [
    {
     "name": "stdout",
     "output_type": "stream",
     "text": [
      "[1, 4, 9, 16, 25, 36, 49, 64, 81, 100]\n"
     ]
    }
   ],
   "source": [
    "s=[n**2 for n in range(1,11)]     \n",
    "print(s)\n"
   ]
  },
  {
   "cell_type": "code",
   "execution_count": 93,
   "metadata": {},
   "outputs": [
    {
     "name": "stdout",
     "output_type": "stream",
     "text": [
      "[3, 7, 11, 15, 19, 23, 27]\n"
     ]
    }
   ],
   "source": [
    "a= range(3,30,4)   \n",
    "print(list(a))"
   ]
  },
  {
   "cell_type": "code",
   "execution_count": 121,
   "metadata": {},
   "outputs": [
    {
     "name": "stdout",
     "output_type": "stream",
     "text": [
      "[26, 27, 28, 29, 30, 31, 32, 33, 34, 35, 36, 37, 38, 39, 40, 41, 42, 43, 44, 45, 46, 47, 48, 49, 50]\n"
     ]
    }
   ],
   "source": [
    "none=int(input(\"請輸入最小範圍數\"))\n",
    "r=int(input(\"請輸入最大範圍數\"))\n",
    "a= range(26,r+1,1)\n",
    "print(list(a))"
   ]
  },
  {
   "cell_type": "code",
   "execution_count": null,
   "metadata": {},
   "outputs": [],
   "source": [
    "sum = 0\n",
    "none=int(input(\"請輸入正整數\"))\n",
    "for n in range(none+1):     \n",
    "    sum = sum+n \n",
    "print(\"請輸入正整數:\",none)\n",
    "print(\"1到\",none,\"的整數和為\",sum )"
   ]
  },
  {
   "cell_type": "code",
   "execution_count": 126,
   "metadata": {},
   "outputs": [
    {
     "name": "stdout",
     "output_type": "stream",
     "text": [
      "26\n",
      "27\n",
      "28\n",
      "29\n",
      "30\n",
      "31\n",
      "32\n",
      "33\n",
      "34\n",
      "35\n",
      "36\n",
      "37\n",
      "38\n",
      "39\n",
      "40\n",
      "41\n",
      "42\n",
      "43\n",
      "44\n",
      "45\n",
      "46\n",
      "47\n",
      "48\n",
      "49\n",
      "50\n"
     ]
    }
   ],
   "source": [
    "none=int(input(\"請輸入最小範圍數\"))\n",
    "r=int(input(\"請輸入最大範圍數\"))\n",
    "for i in range(none,r+1,1):\n",
    "    if i >25:\n",
    "        print(i)"
   ]
  }
 ],
 "metadata": {
  "kernelspec": {
   "display_name": "base",
   "language": "python",
   "name": "python3"
  },
  "language_info": {
   "codemirror_mode": {
    "name": "ipython",
    "version": 3
   },
   "file_extension": ".py",
   "mimetype": "text/x-python",
   "name": "python",
   "nbconvert_exporter": "python",
   "pygments_lexer": "ipython3",
   "version": "3.11.7"
  }
 },
 "nbformat": 4,
 "nbformat_minor": 2
}
