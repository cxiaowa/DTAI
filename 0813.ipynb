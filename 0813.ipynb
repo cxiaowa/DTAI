{
 "cells": [
  {
   "cell_type": "code",
   "execution_count": 8,
   "metadata": {},
   "outputs": [
    {
     "name": "stdout",
     "output_type": "stream",
     "text": [
      "密碼正確\n"
     ]
    }
   ],
   "source": [
    "密碼=int(input(\"請輸入密碼\"))\n",
    "if(密碼==1234):\n",
    "    print(\"密碼正確\")\n",
    "else:\n",
    "    print(\"密碼錯誤\")  "
   ]
  },
  {
   "cell_type": "code",
   "execution_count": 9,
   "metadata": {},
   "outputs": [
    {
     "name": "stdout",
     "output_type": "stream",
     "text": [
      "出門記得帶傘\n"
     ]
    }
   ],
   "source": [
    "rain=input(\"今天會下雨嗎?\")\n",
    "if(rain==\"Y\"or rain==\"y\"):\n",
    "    print(\"出門記得帶傘\")"
   ]
  },
  {
   "cell_type": "code",
   "execution_count": 10,
   "metadata": {},
   "outputs": [
    {
     "name": "stdout",
     "output_type": "stream",
     "text": [
      "出門不用帶傘\n"
     ]
    }
   ],
   "source": [
    "rain=input(\"今天會下雨嗎?\")\n",
    "if(rain==\"Y\"or rain==\"y\"):\n",
    "    print(\"出門記得帶傘\")\n",
    "else:\n",
    "    print(\"出門不用帶傘\")  "
   ]
  },
  {
   "cell_type": "code",
   "execution_count": 11,
   "metadata": {},
   "outputs": [
    {
     "name": "stdout",
     "output_type": "stream",
     "text": [
      "3 是奇數\n"
     ]
    }
   ],
   "source": [
    "none=int(input(\"請請輸入一個整數\"))\n",
    "if(none<0):\n",
    "    print(\"Input Error\")\n",
    "else:    \n",
    "  if(none%2)==0:\n",
    "    print(none,\"是偶數\")\n",
    "  else:\n",
    "    print(none,\"是奇數\")\n"
   ]
  },
  {
   "cell_type": "code",
   "execution_count": 18,
   "metadata": {},
   "outputs": [
    {
     "name": "stdout",
     "output_type": "stream",
     "text": [
      "體溫略高\n"
     ]
    }
   ],
   "source": [
    "none=float(input(\"請請輸入體溫\"))\n",
    "if(none<34):\n",
    "    print(\"體溫異常，請重新量測\")\n",
    "elif(none>=37 and none<=37.4):\n",
    "    print(\"體溫略高\")\n",
    "elif(none>=37.5):\n",
    "    print(\"體溫過高\")\n",
    "else:\n",
    "    print(\"體溫正常\")\n"
   ]
  },
  {
   "cell_type": "code",
   "execution_count": 23,
   "metadata": {},
   "outputs": [
    {
     "name": "stdout",
     "output_type": "stream",
     "text": [
      "D\n"
     ]
    }
   ],
   "source": [
    "none=int(input(\"請請輸入成績\"))\n",
    "if(none<60):\n",
    "    print(\"E\")\n",
    "elif(none>=80 and none<=89):\n",
    "    print(\"B\")\n",
    "elif(none>=70 and none<=79):\n",
    "    print(\"C\")    \n",
    "elif(none>=90):\n",
    "    print(\"A\")\n",
    "else:\n",
    "    print(\"D\")"
   ]
  },
  {
   "cell_type": "code",
   "execution_count": 29,
   "metadata": {},
   "outputs": [
    {
     "name": "stdout",
     "output_type": "stream",
     "text": [
      "50\n"
     ]
    }
   ],
   "source": [
    "total=int(input(\"請請輸入總額\"))\n",
    "if(total<500):\n",
    "    print(total)\n",
    "elif(total>=500 and total<=1000):\n",
    "    print(total-(total*0.1))\n",
    "elif(total>1000):\n",
    "    print(total-(total*0.2))    "
   ]
  },
  {
   "cell_type": "code",
   "execution_count": 33,
   "metadata": {},
   "outputs": [
    {
     "name": "stdout",
     "output_type": "stream",
     "text": [
      "油量充足\n"
     ]
    }
   ],
   "source": [
    "fuel=int(input(\"請輸入油量(公升)\"))\n",
    "if(fuel<5):\n",
    "    print(\"立即需要加油\")\n",
    "elif(fuel>=5 and fuel<=10):\n",
    "    print(\"油量不足，建議加油\")\n",
    "elif(fuel>10):\n",
    "    print(\"油量充足\")"
   ]
  },
  {
   "cell_type": "code",
   "execution_count": 39,
   "metadata": {},
   "outputs": [
    {
     "name": "stdout",
     "output_type": "stream",
     "text": [
      "100000\n"
     ]
    }
   ],
   "source": [
    "amount=int(input(\"請輸入轉帳金額\"))\n",
    "if(amount<1000):\n",
    "    print(amount-150)\n",
    "elif(amount>=5000 and amount<=10000):\n",
    "    print(amount-50)\n",
    "elif(amount>=1000 and amount<=5000):\n",
    "    print(amount-100)\n",
    "else:\n",
    "    print(amount)"
   ]
  }
 ],
 "metadata": {
  "kernelspec": {
   "display_name": "base",
   "language": "python",
   "name": "python3"
  },
  "language_info": {
   "codemirror_mode": {
    "name": "ipython",
    "version": 3
   },
   "file_extension": ".py",
   "mimetype": "text/x-python",
   "name": "python",
   "nbconvert_exporter": "python",
   "pygments_lexer": "ipython3",
   "version": "3.11.7"
  }
 },
 "nbformat": 4,
 "nbformat_minor": 2
}
